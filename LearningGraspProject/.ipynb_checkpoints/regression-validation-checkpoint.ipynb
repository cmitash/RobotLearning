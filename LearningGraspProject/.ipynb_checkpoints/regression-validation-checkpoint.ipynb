{
 "cells": [
  {
   "cell_type": "code",
   "execution_count": 2,
   "metadata": {
    "collapsed": false
   },
   "outputs": [],
   "source": [
    "import scipy.io as sio\n",
    "from sklearn.svm import SVR,NuSVR\n",
    "from sklearn.linear_model import LinearRegression,Ridge,Lasso,BayesianRidge,ElasticNet,ARDRegression\n",
    "from sklearn.neighbors import KNeighborsRegressor\n",
    "from sklearn.kernel_ridge import KernelRidge\n",
    "import numpy as np\n",
    "import random,csv\n",
    "import warnings\n",
    "warnings.filterwarnings('ignore')"
   ]
  },
  {
   "cell_type": "code",
   "execution_count": 3,
   "metadata": {
    "collapsed": false
   },
   "outputs": [],
   "source": [
    "contents = sio.loadmat('training_data/training_1.mat')\n",
    "features_1 = contents['features']\n",
    "scores_1 = contents['score']\n",
    "contents = sio.loadmat('training_data/training_2.mat')\n",
    "features_2 = contents['features']\n",
    "scores_2 = contents['score']\n",
    "contents = sio.loadmat('training_data/training_3.mat')\n",
    "features_3 = contents['features']\n",
    "scores_3 = contents['score']"
   ]
  },
  {
   "cell_type": "code",
   "execution_count": 8,
   "metadata": {
    "collapsed": false
   },
   "outputs": [],
   "source": [
    "contents = sio.loadmat('test_data/test_4.mat')\n",
    "features_4 = contents['features']\n",
    "contents = sio.loadmat('test_data/test_5.mat')\n",
    "features_5 = contents['features']"
   ]
  },
  {
   "cell_type": "code",
   "execution_count": 9,
   "metadata": {
    "collapsed": false
   },
   "outputs": [
    {
     "name": "stdout",
     "output_type": "stream",
     "text": [
      "5499 7006 7322 7322 7322\n",
      "5499 7006 7322\n"
     ]
    }
   ],
   "source": [
    "print len(features_1),len(features_2),len(features_3),len(features_4),len(features_5)\n",
    "print len(scores_1),len(scores_2),len(scores_3)"
   ]
  },
  {
   "cell_type": "code",
   "execution_count": 10,
   "metadata": {
    "collapsed": false
   },
   "outputs": [],
   "source": [
    "train_features = np.concatenate((features_1,features_2,features_3))\n",
    "train_scores = np.concatenate((scores_1,scores_2,scores_3))"
   ]
  },
  {
   "cell_type": "code",
   "execution_count": 11,
   "metadata": {
    "collapsed": false
   },
   "outputs": [],
   "source": [
    "init_configurations_1 = []\n",
    "data_file = file('init_data/init_data_4.csv','r')\n",
    "data = csv.reader(data_file, delimiter=',')\n",
    "for row in data:\n",
    "    init_configurations_1.append(row)\n",
    "\n",
    "init_configurations_2 = []\n",
    "data_file = file('init_data/init_data_5.csv','r')\n",
    "data = csv.reader(data_file, delimiter=',')\n",
    "for row in data:\n",
    "    init_configurations_2.append(row)"
   ]
  },
  {
   "cell_type": "code",
   "execution_count": 12,
   "metadata": {
    "collapsed": false
   },
   "outputs": [
    {
     "data": {
      "text/plain": [
       "KNeighborsRegressor(algorithm='auto', leaf_size=30, metric='minkowski',\n",
       "          metric_params=None, n_jobs=1, n_neighbors=5, p=2,\n",
       "          weights='uniform')"
      ]
     },
     "execution_count": 12,
     "metadata": {},
     "output_type": "execute_result"
    }
   ],
   "source": [
    "classifier = KNeighborsRegressor()\n",
    "classifier.fit(train_features,train_scores)"
   ]
  },
  {
   "cell_type": "code",
   "execution_count": 13,
   "metadata": {
    "collapsed": false
   },
   "outputs": [
    {
     "name": "stdout",
     "output_type": "stream",
     "text": [
      "['0.548744', '0.317784', '0.826851', '0.269813', '0.716956', '-0.315323', '0.560131']\n"
     ]
    }
   ],
   "source": [
    "obs_scores = classifier.predict(features_4)\n",
    "max_index = np.argmax(obs_scores)\n",
    "print init_configurations_1[max_index]"
   ]
  },
  {
   "cell_type": "code",
   "execution_count": 14,
   "metadata": {
    "collapsed": false
   },
   "outputs": [
    {
     "name": "stdout",
     "output_type": "stream",
     "text": [
      "['0.515652', '0.211455', '1.025032', '0.482038', '0.837050', '0.254837', '0.045225']\n"
     ]
    }
   ],
   "source": [
    "obs_scores = classifier.predict(features_5)\n",
    "max_index = np.argmax(obs_scores)\n",
    "print init_configurations_2[max_index]"
   ]
  },
  {
   "cell_type": "code",
   "execution_count": 15,
   "metadata": {
    "collapsed": false
   },
   "outputs": [
    {
     "data": {
      "text/plain": [
       "SVR(C=1.0, cache_size=200, coef0=0.0, degree=3, epsilon=0.1, gamma='auto',\n",
       "  kernel='rbf', max_iter=-1, shrinking=True, tol=0.001, verbose=False)"
      ]
     },
     "execution_count": 15,
     "metadata": {},
     "output_type": "execute_result"
    }
   ],
   "source": [
    "classifier = SVR()\n",
    "classifier.fit(train_features,train_scores)"
   ]
  },
  {
   "cell_type": "code",
   "execution_count": 16,
   "metadata": {
    "collapsed": false
   },
   "outputs": [
    {
     "name": "stdout",
     "output_type": "stream",
     "text": [
      "['0.761962', '0.280188', '0.974950', '0.367094', '1.251430', '-0.473712', '-0.030231']\n"
     ]
    }
   ],
   "source": [
    "obs_scores = classifier.predict(features_4)\n",
    "max_index = np.argmax(obs_scores)\n",
    "print init_configurations_1[max_index]"
   ]
  },
  {
   "cell_type": "code",
   "execution_count": 17,
   "metadata": {
    "collapsed": false
   },
   "outputs": [
    {
     "name": "stdout",
     "output_type": "stream",
     "text": [
      "['0.846000', '0.307210', '0.808525', '0.000000', '-0.707107', '-0.000000', '0.707107']\n"
     ]
    }
   ],
   "source": [
    "obs_scores = classifier.predict(features_5)\n",
    "max_index = np.argmax(obs_scores)\n",
    "print init_configurations_2[max_index]"
   ]
  },
  {
   "cell_type": "code",
   "execution_count": 22,
   "metadata": {
    "collapsed": false
   },
   "outputs": [
    {
     "data": {
      "text/plain": [
       "BayesianRidge(alpha_1=1e-06, alpha_2=1e-06, compute_score=False, copy_X=True,\n",
       "       fit_intercept=True, lambda_1=1e-06, lambda_2=1e-06, n_iter=300,\n",
       "       normalize=False, tol=0.001, verbose=False)"
      ]
     },
     "execution_count": 22,
     "metadata": {},
     "output_type": "execute_result"
    }
   ],
   "source": [
    "classifier = BayesianRidge()\n",
    "classifier.fit(train_features,train_scores)"
   ]
  },
  {
   "cell_type": "code",
   "execution_count": 23,
   "metadata": {
    "collapsed": false
   },
   "outputs": [
    {
     "name": "stdout",
     "output_type": "stream",
     "text": [
      "['0.626652', '0.099938', '1.018362', '0.778122', '-0.603633', '0.092526', '-0.146944']\n"
     ]
    }
   ],
   "source": [
    "obs_scores = classifier.predict(features_4)\n",
    "max_index = np.argmax(obs_scores)\n",
    "print init_configurations_1[max_index]"
   ]
  },
  {
   "cell_type": "code",
   "execution_count": 24,
   "metadata": {
    "collapsed": false
   },
   "outputs": [
    {
     "name": "stdout",
     "output_type": "stream",
     "text": [
      "['0.552588', '0.553412', '0.808525', '0.541675', '-0.454519', '0.541675', '0.454519']\n"
     ]
    }
   ],
   "source": [
    "obs_scores = classifier.predict(features_5)\n",
    "max_index = np.argmax(obs_scores)\n",
    "print init_configurations_2[max_index]"
   ]
  },
  {
   "cell_type": "code",
   "execution_count": 52,
   "metadata": {
    "collapsed": false
   },
   "outputs": [
    {
     "data": {
      "text/plain": [
       "BayesianRidge(alpha_1=1e-06, alpha_2=1e-06, compute_score=False, copy_X=True,\n",
       "       fit_intercept=True, lambda_1=1e-06, lambda_2=1e-06, n_iter=300,\n",
       "       normalize=False, tol=0.001, verbose=False)"
      ]
     },
     "execution_count": 52,
     "metadata": {},
     "output_type": "execute_result"
    }
   ],
   "source": [
    "classifier = BayesianRidge()\n",
    "classifier.fit(features,scores)"
   ]
  },
  {
   "cell_type": "code",
   "execution_count": 53,
   "metadata": {
    "collapsed": false
   },
   "outputs": [
    {
     "name": "stdout",
     "output_type": "stream",
     "text": [
      "[ 378  656  597  550  569  695  592  602  641  612  637  633  606  601  662\n",
      "  643  486  270  155    0    0    0    0 6566]\n"
     ]
    }
   ],
   "source": [
    "obs_scores = classifier.predict(features)\n",
    "max_index = np.argmax(obs_scores)\n",
    "print features[max_index]"
   ]
  },
  {
   "cell_type": "code",
   "execution_count": 54,
   "metadata": {
    "collapsed": false
   },
   "outputs": [
    {
     "name": "stdout",
     "output_type": "stream",
     "text": [
      "4135 7666.78145269 [11096]\n",
      "4831 5809.42808784 [12488]\n"
     ]
    }
   ],
   "source": [
    "print max_index,obs_scores[max_index], scores[max_index]\n",
    "actual_max_index = np.argmax(scores)\n",
    "print actual_max_index, obs_scores[actual_max_index], scores[actual_max_index]"
   ]
  },
  {
   "cell_type": "code",
   "execution_count": 83,
   "metadata": {
    "collapsed": false
   },
   "outputs": [
    {
     "data": {
      "text/plain": [
       "NuSVR(C=1.0, cache_size=200, coef0=0.0, degree=3, gamma='auto', kernel='rbf',\n",
       "   max_iter=-1, nu=0.5, shrinking=True, tol=0.001, verbose=False)"
      ]
     },
     "execution_count": 83,
     "metadata": {},
     "output_type": "execute_result"
    }
   ],
   "source": [
    "classifier = NuSVR()\n",
    "classifier.fit(features,scores)"
   ]
  },
  {
   "cell_type": "code",
   "execution_count": 84,
   "metadata": {
    "collapsed": false
   },
   "outputs": [
    {
     "name": "stdout",
     "output_type": "stream",
     "text": [
      "[479 765 787 741 680 643 581 556 558 649 648 717 783 810 786 784 691 599\n",
      " 263   0   0   0   0  61]\n"
     ]
    }
   ],
   "source": [
    "obs_scores = classifier.predict(features)\n",
    "max_index = np.argmax(obs_scores)\n",
    "print features[max_index]"
   ]
  },
  {
   "cell_type": "code",
   "execution_count": 85,
   "metadata": {
    "collapsed": false
   },
   "outputs": [
    {
     "name": "stdout",
     "output_type": "stream",
     "text": [
      "4576 3068.54191289 [6775]\n",
      "4831 3066.54191289 [12488]\n"
     ]
    }
   ],
   "source": [
    "print max_index,obs_scores[max_index], scores[max_index]\n",
    "actual_max_index = np.argmax(scores)\n",
    "print actual_max_index, obs_scores[actual_max_index], scores[actual_max_index]"
   ]
  },
  {
   "cell_type": "code",
   "execution_count": 87,
   "metadata": {
    "collapsed": false
   },
   "outputs": [
    {
     "data": {
      "text/plain": [
       "KNeighborsRegressor(algorithm='auto', leaf_size=30, metric='minkowski',\n",
       "          metric_params=None, n_jobs=1, n_neighbors=5, p=2,\n",
       "          weights='uniform')"
      ]
     },
     "execution_count": 87,
     "metadata": {},
     "output_type": "execute_result"
    }
   ],
   "source": [
    "classifier = KNeighborsRegressor()\n",
    "classifier.fit(features,scores)"
   ]
  },
  {
   "cell_type": "code",
   "execution_count": 88,
   "metadata": {
    "collapsed": false
   },
   "outputs": [
    {
     "name": "stdout",
     "output_type": "stream",
     "text": [
      "[ 334  678  626  498  583  689  601  610  606  523  531  557  527  521  572\n",
      "  581  580  444  107    0    0    0    0 5771]\n"
     ]
    }
   ],
   "source": [
    "obs_scores = classifier.predict(features)\n",
    "max_index = np.argmax(obs_scores)\n",
    "print features[max_index]"
   ]
  },
  {
   "cell_type": "code",
   "execution_count": 89,
   "metadata": {
    "collapsed": false
   },
   "outputs": [
    {
     "name": "stdout",
     "output_type": "stream",
     "text": [
      "4887 [ 11571.2] [12110]\n",
      "4831 [ 5752.4] [12488]\n"
     ]
    }
   ],
   "source": [
    "print max_index,obs_scores[max_index], scores[max_index]\n",
    "actual_max_index = np.argmax(scores)\n",
    "print actual_max_index, obs_scores[actual_max_index], scores[actual_max_index]"
   ]
  },
  {
   "cell_type": "code",
   "execution_count": 91,
   "metadata": {
    "collapsed": false
   },
   "outputs": [
    {
     "data": {
      "text/plain": [
       "KernelRidge(alpha=1, coef0=1, degree=3, gamma=None, kernel='linear',\n",
       "      kernel_params=None)"
      ]
     },
     "execution_count": 91,
     "metadata": {},
     "output_type": "execute_result"
    }
   ],
   "source": [
    "classifier = KernelRidge()\n",
    "classifier.fit(features,scores)"
   ]
  },
  {
   "cell_type": "code",
   "execution_count": 92,
   "metadata": {
    "collapsed": false
   },
   "outputs": [
    {
     "name": "stdout",
     "output_type": "stream",
     "text": [
      "[ 290  613  595  545  578  809  647  671  731  713  635  621  604  613  597\n",
      "  537  514  465  130    0    0    0   10 6607]\n"
     ]
    }
   ],
   "source": [
    "obs_scores = classifier.predict(features)\n",
    "max_index = np.argmax(obs_scores)\n",
    "print features[max_index]"
   ]
  },
  {
   "cell_type": "code",
   "execution_count": 93,
   "metadata": {
    "collapsed": false
   },
   "outputs": [
    {
     "name": "stdout",
     "output_type": "stream",
     "text": [
      "4155 [ 7655.20238495] [10544]\n",
      "4831 [ 5738.06513214] [12488]\n"
     ]
    }
   ],
   "source": [
    "print max_index,obs_scores[max_index], scores[max_index]\n",
    "actual_max_index = np.argmax(scores)\n",
    "print actual_max_index, obs_scores[actual_max_index], scores[actual_max_index]"
   ]
  },
  {
   "cell_type": "code",
   "execution_count": null,
   "metadata": {
    "collapsed": true
   },
   "outputs": [],
   "source": []
  }
 ],
 "metadata": {
  "kernelspec": {
   "display_name": "Python 2",
   "language": "python",
   "name": "python2"
  },
  "language_info": {
   "codemirror_mode": {
    "name": "ipython",
    "version": 2
   },
   "file_extension": ".py",
   "mimetype": "text/x-python",
   "name": "python",
   "nbconvert_exporter": "python",
   "pygments_lexer": "ipython2",
   "version": "2.7.11"
  }
 },
 "nbformat": 4,
 "nbformat_minor": 0
}
