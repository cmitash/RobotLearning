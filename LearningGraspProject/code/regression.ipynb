{
 "cells": [
  {
   "cell_type": "code",
   "execution_count": 1,
   "metadata": {
    "collapsed": false
   },
   "outputs": [],
   "source": [
    "\n",
    "import scipy.io as sio\n",
    "from sklearn.svm import SVR,NuSVR,LinearSVR\n",
    "from sklearn.linear_model import LinearRegression,Ridge,Lasso,BayesianRidge,ElasticNet,ARDRegression\n",
    "from sklearn.neighbors import KNeighborsRegressor\n",
    "import numpy as np\n",
    "import random,csv\n",
    "import warnings\n",
    "warnings.filterwarnings('ignore')\n"
   ]
  },
  {
   "cell_type": "code",
   "execution_count": 2,
   "metadata": {
    "collapsed": false
   },
   "outputs": [],
   "source": [
    "contents = sio.loadmat('training_data/training_1.mat')\n",
    "features_1 = contents['features']\n",
    "scores_1 = contents['score']\n",
    "contents = sio.loadmat('training_data/training_2.mat')\n",
    "features_2 = contents['features']\n",
    "scores_2 = contents['score']\n",
    "contents = sio.loadmat('training_data/training_3.mat')\n",
    "features_3 = contents['features']\n",
    "scores_3 = contents['score']"
   ]
  },
  {
   "cell_type": "code",
   "execution_count": 3,
   "metadata": {
    "collapsed": false
   },
   "outputs": [],
   "source": [
    "contents = sio.loadmat('test_data/test_4.mat')\n",
    "features_4 = contents['features']\n",
    "contents = sio.loadmat('test_data/test_5.mat')\n",
    "features_5 = contents['features']"
   ]
  },
  {
   "cell_type": "code",
   "execution_count": 4,
   "metadata": {
    "collapsed": false
   },
   "outputs": [],
   "source": [
    "num_examples_1 = len(features_1)\n",
    "num_examples_2 = len(features_2)\n",
    "num_examples_3 = len(features_3)\n",
    "total_number_examples = num_examples_1 + num_examples_2 + num_examples_3\n",
    "\n",
    "train_features = np.zeros((total_number_examples,25))\n",
    "train_scores =  np.zeros(total_number_examples)\n",
    "\n",
    "for index in range(num_examples_1):\n",
    "    train_features[index] = features_1[index]\n",
    "for index in range(num_examples_1,num_examples_1+num_examples_2):\n",
    "    train_features[index] = features_2[index-num_examples_1]\n",
    "for index in range(num_examples_1+num_examples_2,total_number_examples):\n",
    "    train_features[index] = features_3[index-(num_examples_1+num_examples_2)]\n",
    "\n",
    "    \n",
    "for index in range(num_examples_1):\n",
    "    train_scores[index] = scores_1[index]\n",
    "for index in range(num_examples_1,num_examples_1+num_examples_2):\n",
    "    train_scores[index] = scores_2[index-num_examples_1]\n",
    "for index in range(num_examples_1+num_examples_2,total_number_examples):\n",
    "    train_scores[index] = scores_3[index-(num_examples_1+num_examples_2)]\n"
   ]
  },
  {
   "cell_type": "code",
   "execution_count": 5,
   "metadata": {
    "collapsed": false
   },
   "outputs": [],
   "source": [
    "init_configurations_1 = []\n",
    "data_file = file('init_data/init_data_4.csv','r')\n",
    "data = csv.reader(data_file, delimiter=',')\n",
    "for row in data:\n",
    "    init_configurations_1.append(row)\n",
    "    \n",
    "    \n",
    "init_configurations_2 = []\n",
    "data_file = file('init_data/init_data_5.csv','r')\n",
    "data = csv.reader(data_file, delimiter=',')\n",
    "for row in data:\n",
    "    init_configurations_2.append(row)"
   ]
  },
  {
   "cell_type": "code",
   "execution_count": 6,
   "metadata": {
    "collapsed": false
   },
   "outputs": [
    {
     "data": {
      "text/plain": [
       "KNeighborsRegressor(algorithm='auto', leaf_size=30, metric='minkowski',\n",
       "          metric_params=None, n_jobs=1, n_neighbors=25, p=2,\n",
       "          weights='uniform')"
      ]
     },
     "execution_count": 6,
     "metadata": {},
     "output_type": "execute_result"
    }
   ],
   "source": [
    "classifier = KNeighborsRegressor(n_neighbors=25)\n",
    "classifier.fit(train_features,train_scores)"
   ]
  },
  {
   "cell_type": "code",
   "execution_count": 7,
   "metadata": {
    "collapsed": false
   },
   "outputs": [],
   "source": [
    "obs_scores = classifier.predict(features_4)\n",
    "indices = np.argsort(obs_scores)[::-1][:10]"
   ]
  },
  {
   "cell_type": "code",
   "execution_count": 8,
   "metadata": {
    "collapsed": false,
    "scrolled": true
   },
   "outputs": [
    {
     "name": "stdout",
     "output_type": "stream",
     "text": [
      "-\n",
      "  relative_config:   [ 0.622794,-0.102172,0.826851,0.684996,0.342935,0.466989,-0.441698 ]\n",
      "  grasp_mode:  2\n",
      "  release_mode:  3\n",
      "-\n",
      "  relative_config:   [ 0.548744,0.317784,0.826851,0.269813,0.716956,-0.315323,0.560131 ]\n",
      "  grasp_mode:  2\n",
      "  release_mode:  3\n",
      "-\n",
      "  relative_config:   [ 0.626652,-0.091573,0.868944,0.756497,0.314200,0.387907,-0.422514 ]\n",
      "  grasp_mode:  2\n",
      "  release_mode:  3\n",
      "-\n",
      "  relative_config:   [ 0.548744,0.317784,0.826851,0.733758,-0.220054,0.537210,0.352961 ]\n",
      "  grasp_mode:  2\n",
      "  release_mode:  3\n",
      "-\n",
      "  relative_config:   [ 0.548744,0.317784,0.826851,0.672953,-0.366004,0.598228,0.235157 ]\n",
      "  grasp_mode:  2\n",
      "  release_mode:  3\n",
      "-\n",
      "  relative_config:   [ 0.548744,0.317784,0.826851,0.220054,0.733758,-0.352961,0.537210 ]\n",
      "  grasp_mode:  2\n",
      "  release_mode:  3\n",
      "-\n",
      "  relative_config:   [ 0.621495,-0.105741,0.783439,0.607233,0.362310,0.548146,-0.446695 ]\n",
      "  grasp_mode:  2\n",
      "  release_mode:  3\n",
      "-\n",
      "  relative_config:   [ 0.548744,0.317784,0.826851,0.716956,-0.269813,0.560131,0.315323 ]\n",
      "  grasp_mode:  2\n",
      "  release_mode:  3\n",
      "-\n",
      "  relative_config:   [ 0.632950,-0.074267,0.908439,0.811591,0.302191,0.324209,-0.380642 ]\n",
      "  grasp_mode:  2\n",
      "  release_mode:  3\n",
      "-\n",
      "  relative_config:   [ 0.548744,0.317784,0.826851,0.607663,-0.466443,0.627575,0.139016 ]\n",
      "  grasp_mode:  2\n",
      "  release_mode:  3\n"
     ]
    }
   ],
   "source": [
    "for val in indices:\n",
    "    print '-'\n",
    "    print '  relative_config:   [',\",\".join(map(str,init_configurations_1[val])),']'\n",
    "    print '  grasp_mode:  2'\n",
    "    print '  release_mode:  3'"
   ]
  },
  {
   "cell_type": "code",
   "execution_count": 9,
   "metadata": {
    "collapsed": false
   },
   "outputs": [],
   "source": [
    "obs_scores = classifier.predict(features_5)\n",
    "indices = np.argsort(obs_scores)[::-1][:10]"
   ]
  },
  {
   "cell_type": "code",
   "execution_count": 10,
   "metadata": {
    "collapsed": false,
    "scrolled": true
   },
   "outputs": [
    {
     "name": "stdout",
     "output_type": "stream",
     "text": [
      "-\n",
      "  relative_config:   [ 0.530499,0.362172,1.043448,0.486871,0.856039,-0.031260,0.170811 ]\n",
      "  grasp_mode:  2\n",
      "  release_mode:  3\n",
      "-\n",
      "  relative_config:   [ 0.510495,0.072287,0.808525,0.416807,0.571202,0.679311,-0.196308 ]\n",
      "  grasp_mode:  2\n",
      "  release_mode:  3\n",
      "-\n",
      "  relative_config:   [ 0.515652,0.086455,0.894030,-0.314200,0.756497,0.422514,0.387907 ]\n",
      "  grasp_mode:  2\n",
      "  release_mode:  3\n",
      "-\n",
      "  relative_config:   [ 0.521950,0.349963,1.043448,0.465637,0.867772,-0.005401,0.173564 ]\n",
      "  grasp_mode:  2\n",
      "  release_mode:  3\n",
      "-\n",
      "  relative_config:   [ 0.515652,0.277966,1.043448,0.469744,0.865556,0.130033,0.115088 ]\n",
      "  grasp_mode:  2\n",
      "  release_mode:  3\n",
      "-\n",
      "  relative_config:   [ 0.511794,0.075856,0.851937,-0.238921,0.727833,0.505326,0.397268 ]\n",
      "  grasp_mode:  2\n",
      "  release_mode:  3\n",
      "-\n",
      "  relative_config:   [ 0.521950,0.349963,1.043448,0.867772,-0.465637,0.173564,0.005401 ]\n",
      "  grasp_mode:  2\n",
      "  release_mode:  3\n",
      "-\n",
      "  relative_config:   [ 0.515652,0.336455,1.043448,0.442458,0.879817,0.020253,0.172463 ]\n",
      "  grasp_mode:  2\n",
      "  release_mode:  3\n",
      "-\n",
      "  relative_config:   [ 0.515652,0.211455,1.025032,0.482038,0.837050,0.254837,0.045225 ]\n",
      "  grasp_mode:  2\n",
      "  release_mode:  3\n",
      "-\n",
      "  relative_config:   [ 0.530499,0.252248,1.043448,0.503753,0.846215,0.163955,0.057206 ]\n",
      "  grasp_mode:  2\n",
      "  release_mode:  3\n"
     ]
    }
   ],
   "source": [
    "for val in indices:\n",
    "    print '-'\n",
    "    print '  relative_config:   [',\",\".join(map(str,init_configurations_2[val])),']'\n",
    "    print '  grasp_mode:  2'\n",
    "    print '  release_mode:  3'"
   ]
  },
  {
   "cell_type": "code",
   "execution_count": 30,
   "metadata": {
    "collapsed": false
   },
   "outputs": [
    {
     "data": {
      "text/plain": [
       "SVR(C=1.0, cache_size=200, coef0=0.0, degree=3, epsilon=0.1, gamma=0.0,\n",
       "  kernel='rbf', max_iter=-1, probability=False, random_state=None,\n",
       "  shrinking=True, tol=0.001, verbose=False)"
      ]
     },
     "execution_count": 30,
     "metadata": {},
     "output_type": "execute_result"
    }
   ],
   "source": [
    "classifier = SVR()\n",
    "classifier.fit(train_features,train_scores)"
   ]
  },
  {
   "cell_type": "code",
   "execution_count": 31,
   "metadata": {
    "collapsed": false
   },
   "outputs": [],
   "source": [
    "obs_scores = classifier.predict(features_4)\n",
    "indices = np.argsort(obs_scores)[::-1][:10]"
   ]
  },
  {
   "cell_type": "code",
   "execution_count": 32,
   "metadata": {
    "collapsed": false
   },
   "outputs": [
    {
     "name": "stdout",
     "output_type": "stream",
     "text": [
      "-\n",
      "  relative_config:   [ 0.761962,0.280188,0.974950,0.367094,1.251430,-0.473712,-0.030231 ]\n",
      "  grasp_mode:  2\n",
      "  release_mode:  3\n",
      "-\n",
      "  relative_config:   [ 0.761962,0.280188,0.974950,0.367094,1.251430,-0.473712,-0.030231 ]\n",
      "  grasp_mode:  2\n",
      "  release_mode:  3\n",
      "-\n",
      "  relative_config:   [ 0.707000,0.129182,1.033439,0.707107,-0.707107,0.000000,0.000000 ]\n",
      "  grasp_mode:  2\n",
      "  release_mode:  3\n",
      "-\n",
      "  relative_config:   [ 0.669404,0.342399,0.908439,0.918190,-0.478717,0.364242,0.474070 ]\n",
      "  grasp_mode:  2\n",
      "  release_mode:  3\n",
      "-\n",
      "  relative_config:   [ 0.669404,0.342399,0.908439,0.807885,-0.421207,0.320485,0.417118 ]\n",
      "  grasp_mode:  2\n",
      "  release_mode:  3\n",
      "-\n",
      "  relative_config:   [ 0.669404,0.342399,0.908439,0.862730,0.075479,0.043578,0.498097 ]\n",
      "  grasp_mode:  2\n",
      "  release_mode:  3\n",
      "-\n",
      "  relative_config:   [ 0.669404,0.342399,0.908439,-0.432065,0.750547,-0.470062,-0.170416 ]\n",
      "  grasp_mode:  2\n",
      "  release_mode:  3\n",
      "-\n",
      "  relative_config:   [ 0.669404,0.342399,0.908439,0.750547,0.432065,-0.170416,0.470062 ]\n",
      "  grasp_mode:  2\n",
      "  release_mode:  3\n",
      "-\n",
      "  relative_config:   [ 0.669404,0.342399,0.908439,-0.075479,0.862730,-0.498097,0.043578 ]\n",
      "  grasp_mode:  2\n",
      "  release_mode:  3\n",
      "-\n",
      "  relative_config:   [ 0.669404,0.342399,0.908439,0.421207,0.807885,-0.417118,0.320485 ]\n",
      "  grasp_mode:  2\n",
      "  release_mode:  3\n"
     ]
    }
   ],
   "source": [
    "for val in indices:\n",
    "    print '-'\n",
    "    print '  relative_config:   [',\",\".join(map(str,init_configurations_1[val])),']'\n",
    "    print '  grasp_mode:  2'\n",
    "    print '  release_mode:  3'"
   ]
  },
  {
   "cell_type": "code",
   "execution_count": 33,
   "metadata": {
    "collapsed": false
   },
   "outputs": [],
   "source": [
    "obs_scores = classifier.predict(features_5)\n",
    "indices = np.argsort(obs_scores)[::-1][:10]"
   ]
  },
  {
   "cell_type": "code",
   "execution_count": 11,
   "metadata": {
    "collapsed": false,
    "scrolled": true
   },
   "outputs": [
    {
     "name": "stdout",
     "output_type": "stream",
     "text": [
      "-\n",
      "  relative_config:   [ 0.530499,0.362172,1.043448,0.486871,0.856039,-0.031260,0.170811 ]\n",
      "  grasp_mode:  2\n",
      "  release_mode:  3\n",
      "-\n",
      "  relative_config:   [ 0.510495,0.072287,0.808525,0.416807,0.571202,0.679311,-0.196308 ]\n",
      "  grasp_mode:  2\n",
      "  release_mode:  3\n",
      "-\n",
      "  relative_config:   [ 0.515652,0.086455,0.894030,-0.314200,0.756497,0.422514,0.387907 ]\n",
      "  grasp_mode:  2\n",
      "  release_mode:  3\n",
      "-\n",
      "  relative_config:   [ 0.521950,0.349963,1.043448,0.465637,0.867772,-0.005401,0.173564 ]\n",
      "  grasp_mode:  2\n",
      "  release_mode:  3\n",
      "-\n",
      "  relative_config:   [ 0.515652,0.277966,1.043448,0.469744,0.865556,0.130033,0.115088 ]\n",
      "  grasp_mode:  2\n",
      "  release_mode:  3\n",
      "-\n",
      "  relative_config:   [ 0.511794,0.075856,0.851937,-0.238921,0.727833,0.505326,0.397268 ]\n",
      "  grasp_mode:  2\n",
      "  release_mode:  3\n",
      "-\n",
      "  relative_config:   [ 0.521950,0.349963,1.043448,0.867772,-0.465637,0.173564,0.005401 ]\n",
      "  grasp_mode:  2\n",
      "  release_mode:  3\n",
      "-\n",
      "  relative_config:   [ 0.515652,0.336455,1.043448,0.442458,0.879817,0.020253,0.172463 ]\n",
      "  grasp_mode:  2\n",
      "  release_mode:  3\n",
      "-\n",
      "  relative_config:   [ 0.515652,0.211455,1.025032,0.482038,0.837050,0.254837,0.045225 ]\n",
      "  grasp_mode:  2\n",
      "  release_mode:  3\n",
      "-\n",
      "  relative_config:   [ 0.530499,0.252248,1.043448,0.503753,0.846215,0.163955,0.057206 ]\n",
      "  grasp_mode:  2\n",
      "  release_mode:  3\n"
     ]
    }
   ],
   "source": [
    "for val in indices:\n",
    "    print '-'\n",
    "    print '  relative_config:   [',\",\".join(map(str,init_configurations_2[val])),']'\n",
    "    print '  grasp_mode:  2'\n",
    "    print '  release_mode:  3'"
   ]
  },
  {
   "cell_type": "code",
   "execution_count": null,
   "metadata": {
    "collapsed": false
   },
   "outputs": [],
   "source": [
    "classifier = NuSVR()\n",
    "classifier.fit(train_features,train_scores)"
   ]
  },
  {
   "cell_type": "code",
   "execution_count": 25,
   "metadata": {
    "collapsed": false
   },
   "outputs": [],
   "source": [
    "obs_scores = classifier.predict(features_4)\n",
    "indices = np.argsort(obs_scores)[::-1][:10]"
   ]
  },
  {
   "cell_type": "code",
   "execution_count": 27,
   "metadata": {
    "collapsed": false,
    "scrolled": true
   },
   "outputs": [
    {
     "name": "stdout",
     "output_type": "stream",
     "text": [
      "-\n",
      "  relative_config:   [ 0.707000,0.129182,1.033439,0.707107,-0.707107,0.000000,0.000000 ]\n",
      "  grasp_mode:  2\n",
      "  release_mode:  3\n",
      "-\n",
      "  relative_config:   [ 0.632950,0.332632,0.908439,0.662536,0.557715,-0.171750,0.469576 ]\n",
      "  grasp_mode:  2\n",
      "  release_mode:  3\n",
      "-\n",
      "  relative_config:   [ 0.669404,0.342399,0.908439,0.918190,-0.478717,0.364242,0.474070 ]\n",
      "  grasp_mode:  2\n",
      "  release_mode:  3\n",
      "-\n",
      "  relative_config:   [ 0.669404,0.342399,0.908439,0.918190,-0.478717,0.364242,0.474070 ]\n",
      "  grasp_mode:  2\n",
      "  release_mode:  3\n",
      "-\n",
      "  relative_config:   [ 0.669404,0.342399,0.908439,0.807885,-0.421207,0.320485,0.417118 ]\n",
      "  grasp_mode:  2\n",
      "  release_mode:  3\n",
      "-\n",
      "  relative_config:   [ 0.669404,0.342399,0.908439,0.807885,-0.421207,0.320485,0.417118 ]\n",
      "  grasp_mode:  2\n",
      "  release_mode:  3\n",
      "-\n",
      "  relative_config:   [ 0.669404,0.342399,0.908439,0.862730,0.075479,0.043578,0.498097 ]\n",
      "  grasp_mode:  2\n",
      "  release_mode:  3\n",
      "-\n",
      "  relative_config:   [ 0.669404,0.342399,0.908439,-0.432065,0.750547,-0.470062,-0.170416 ]\n",
      "  grasp_mode:  2\n",
      "  release_mode:  3\n",
      "-\n",
      "  relative_config:   [ 0.669404,0.342399,0.908439,0.750547,0.432065,-0.170416,0.470062 ]\n",
      "  grasp_mode:  2\n",
      "  release_mode:  3\n",
      "-\n",
      "  relative_config:   [ 0.669404,0.342399,0.908439,-0.075479,0.862730,-0.498097,0.043578 ]\n",
      "  grasp_mode:  2\n",
      "  release_mode:  3\n"
     ]
    }
   ],
   "source": [
    "for val in indices:\n",
    "    print '-'\n",
    "    print '  relative_config:   [',\",\".join(map(str,init_configurations_1[val])),']'\n",
    "    print '  grasp_mode:  2'\n",
    "    print '  release_mode:  3'"
   ]
  },
  {
   "cell_type": "code",
   "execution_count": 28,
   "metadata": {
    "collapsed": false
   },
   "outputs": [],
   "source": [
    "obs_scores = classifier.predict(features_5)\n",
    "indices = np.argsort(obs_scores)[::-1][:10]"
   ]
  },
  {
   "cell_type": "code",
   "execution_count": 29,
   "metadata": {
    "collapsed": false,
    "scrolled": true
   },
   "outputs": [
    {
     "name": "stdout",
     "output_type": "stream",
     "text": [
      "-\n",
      "  relative_config:   [ 0.596000,0.307210,1.058525,0.707107,-0.707107,0.000000,0.000000 ]\n",
      "  grasp_mode:  2\n",
      "  release_mode:  3\n",
      "-\n",
      "  relative_config:   [ 0.521950,0.510659,0.933525,0.810045,0.306311,-0.006228,0.499961 ]\n",
      "  grasp_mode:  2\n",
      "  release_mode:  3\n",
      "-\n",
      "  relative_config:   [ 0.558404,0.520427,0.933525,0.983537,-0.512787,0.390165,0.507809 ]\n",
      "  grasp_mode:  2\n",
      "  release_mode:  3\n",
      "-\n",
      "  relative_config:   [ 0.558404,0.520427,0.933525,0.983537,-0.512787,0.390165,0.507809 ]\n",
      "  grasp_mode:  2\n",
      "  release_mode:  3\n",
      "-\n",
      "  relative_config:   [ 0.558404,0.520427,0.933525,0.918190,-0.478717,0.364242,0.474070 ]\n",
      "  grasp_mode:  2\n",
      "  release_mode:  3\n",
      "-\n",
      "  relative_config:   [ 0.558404,0.520427,0.933525,0.918190,-0.478717,0.364242,0.474070 ]\n",
      "  grasp_mode:  2\n",
      "  release_mode:  3\n",
      "-\n",
      "  relative_config:   [ 0.558404,0.520427,0.933525,0.807885,-0.421207,0.320485,0.417118 ]\n",
      "  grasp_mode:  2\n",
      "  release_mode:  3\n",
      "-\n",
      "  relative_config:   [ 0.558404,0.520427,0.933525,0.807885,-0.421207,0.320485,0.417118 ]\n",
      "  grasp_mode:  2\n",
      "  release_mode:  3\n",
      "-\n",
      "  relative_config:   [ 0.558404,0.520427,0.933525,0.862730,0.075479,0.043578,0.498097 ]\n",
      "  grasp_mode:  2\n",
      "  release_mode:  3\n",
      "-\n",
      "  relative_config:   [ 0.558404,0.520427,0.933525,-0.432065,0.750547,-0.470062,-0.170416 ]\n",
      "  grasp_mode:  2\n",
      "  release_mode:  3\n"
     ]
    }
   ],
   "source": [
    "for val in indices:\n",
    "    print '-'\n",
    "    print '  relative_config:   [',\",\".join(map(str,init_configurations_2[val])),']'\n",
    "    print '  grasp_mode:  2'\n",
    "    print '  release_mode:  3'"
   ]
  },
  {
   "cell_type": "code",
   "execution_count": 6,
   "metadata": {
    "collapsed": false
   },
   "outputs": [
    {
     "data": {
      "text/plain": [
       "LinearSVR(C=1.0, dual=True, epsilon=0.0, fit_intercept=True,\n",
       "     intercept_scaling=1.0, loss='epsilon_insensitive', max_iter=1000,\n",
       "     random_state=None, tol=0.0001, verbose=0)"
      ]
     },
     "execution_count": 6,
     "metadata": {},
     "output_type": "execute_result"
    }
   ],
   "source": [
    "classifier = LinearSVR()\n",
    "classifier.fit(train_features,train_scores)"
   ]
  },
  {
   "cell_type": "code",
   "execution_count": 7,
   "metadata": {
    "collapsed": true
   },
   "outputs": [],
   "source": [
    "obs_scores = classifier.predict(features_4)\n",
    "indices = np.argsort(obs_scores)[::-1][:10]"
   ]
  },
  {
   "cell_type": "code",
   "execution_count": 8,
   "metadata": {
    "collapsed": false,
    "scrolled": true
   },
   "outputs": [
    {
     "name": "stdout",
     "output_type": "stream",
     "text": [
      "-\n",
      "  relative_config:   [ 0.626652,0.099938,1.018362,0.778122,-0.603633,0.092526,-0.146944 ]\n",
      "  grasp_mode:  2\n",
      "  release_mode:  3\n",
      "-\n",
      "  relative_config:   [ 0.632950,0.086430,1.018362,0.804002,-0.568707,0.072635,-0.157727 ]\n",
      "  grasp_mode:  2\n",
      "  release_mode:  3\n",
      "-\n",
      "  relative_config:   [ 0.622794,0.114334,1.018362,0.601284,0.779939,0.128293,0.117024 ]\n",
      "  grasp_mode:  2\n",
      "  release_mode:  3\n",
      "-\n",
      "  relative_config:   [ 0.626652,0.099938,1.018362,0.806707,-0.564863,0.099601,-0.142244 ]\n",
      "  grasp_mode:  2\n",
      "  release_mode:  3\n",
      "-\n",
      "  relative_config:   [ 0.622794,0.114334,1.018362,0.644644,0.744500,0.134737,0.109543 ]\n",
      "  grasp_mode:  2\n",
      "  release_mode:  3\n",
      "-\n",
      "  relative_config:   [ 0.622794,0.114334,1.018362,0.779939,-0.601284,0.117024,-0.128293 ]\n",
      "  grasp_mode:  2\n",
      "  release_mode:  3\n",
      "-\n",
      "  relative_config:   [ 0.621495,0.129182,1.018362,0.745240,-0.643789,0.131406,-0.113517 ]\n",
      "  grasp_mode:  2\n",
      "  release_mode:  3\n",
      "-\n",
      "  relative_config:   [ 0.621495,0.129182,1.018362,0.643789,0.745240,0.113517,0.131406 ]\n",
      "  grasp_mode:  2\n",
      "  release_mode:  3\n",
      "-\n",
      "  relative_config:   [ 0.791206,0.144030,1.018362,0.795929,-0.579951,-0.120454,0.125078 ]\n",
      "  grasp_mode:  2\n",
      "  release_mode:  3\n",
      "-\n",
      "  relative_config:   [ 0.669404,0.107476,1.029640,0.796575,-0.598224,0.034186,-0.080172 ]\n",
      "  grasp_mode:  2\n",
      "  release_mode:  3\n"
     ]
    }
   ],
   "source": [
    "for val in indices:\n",
    "    print '-'\n",
    "    print '  relative_config:   [',\",\".join(map(str,init_configurations_1[val])),']'\n",
    "    print '  grasp_mode:  2'\n",
    "    print '  release_mode:  3'"
   ]
  },
  {
   "cell_type": "code",
   "execution_count": 9,
   "metadata": {
    "collapsed": true
   },
   "outputs": [],
   "source": [
    "obs_scores = classifier.predict(features_5)\n",
    "indices = np.argsort(obs_scores)[::-1][:10]"
   ]
  },
  {
   "cell_type": "code",
   "execution_count": 10,
   "metadata": {
    "collapsed": false
   },
   "outputs": [
    {
     "name": "stdout",
     "output_type": "stream",
     "text": [
      "-\n",
      "  relative_config:   [ 0.596000,0.057210,0.808525,-0.579228,0.405580,0.405580,0.579228 ]\n",
      "  grasp_mode:  2\n",
      "  release_mode:  3\n",
      "-\n",
      "  relative_config:   [ 0.596000,0.057210,0.808525,-0.579228,-0.405580,-0.405580,0.579228 ]\n",
      "  grasp_mode:  2\n",
      "  release_mode:  3\n",
      "-\n",
      "  relative_config:   [ 0.552588,0.061008,0.808525,0.541675,0.454519,0.541675,-0.454519 ]\n",
      "  grasp_mode:  2\n",
      "  release_mode:  3\n",
      "-\n",
      "  relative_config:   [ 0.552588,0.061008,0.808525,-0.454519,0.541675,0.454519,0.541675 ]\n",
      "  grasp_mode:  2\n",
      "  release_mode:  3\n",
      "-\n",
      "  relative_config:   [ 0.596000,0.057210,0.808525,-0.500000,-0.500000,-0.500000,0.500000 ]\n",
      "  grasp_mode:  2\n",
      "  release_mode:  3\n",
      "-\n",
      "  relative_config:   [ 0.552588,0.553412,0.808525,0.541675,-0.454519,0.541675,0.454519 ]\n",
      "  grasp_mode:  2\n",
      "  release_mode:  3\n",
      "-\n",
      "  relative_config:   [ 0.596000,0.057210,0.808525,-0.500000,0.500000,0.500000,0.500000 ]\n",
      "  grasp_mode:  2\n",
      "  release_mode:  3\n",
      "-\n",
      "  relative_config:   [ 0.552588,0.553412,0.808525,0.454519,0.541675,-0.454519,0.541675 ]\n",
      "  grasp_mode:  2\n",
      "  release_mode:  3\n",
      "-\n",
      "  relative_config:   [ 0.552588,0.061008,0.808525,-0.393597,0.587437,0.510165,0.489624 ]\n",
      "  grasp_mode:  2\n",
      "  release_mode:  3\n",
      "-\n",
      "  relative_config:   [ 0.552588,0.061008,0.808525,0.587437,0.393597,0.489624,-0.510165 ]\n",
      "  grasp_mode:  2\n",
      "  release_mode:  3\n"
     ]
    }
   ],
   "source": [
    "for val in indices:\n",
    "    print '-'\n",
    "    print '  relative_config:   [',\",\".join(map(str,init_configurations_2[val])),']'\n",
    "    print '  grasp_mode:  2'\n",
    "    print '  release_mode:  3'"
   ]
  },
  {
   "cell_type": "code",
   "execution_count": null,
   "metadata": {
    "collapsed": true
   },
   "outputs": [],
   "source": []
  }
 ],
 "metadata": {
  "kernelspec": {
   "display_name": "Python 2",
   "language": "python",
   "name": "python2"
  },
  "language_info": {
   "codemirror_mode": {
    "name": "ipython",
    "version": 2
   },
   "file_extension": ".py",
   "mimetype": "text/x-python",
   "name": "python",
   "nbconvert_exporter": "python",
   "pygments_lexer": "ipython2",
   "version": "2.7.11"
  }
 },
 "nbformat": 4,
 "nbformat_minor": 0
}
