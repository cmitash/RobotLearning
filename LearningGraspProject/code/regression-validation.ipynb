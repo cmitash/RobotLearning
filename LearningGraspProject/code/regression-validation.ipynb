{
 "cells": [
  {
   "cell_type": "code",
   "execution_count": 1,
   "metadata": {
    "collapsed": false
   },
   "outputs": [],
   "source": [
    "import scipy.io as sio\n",
    "from sklearn.svm import SVR,NuSVR,LinearSVR\n",
    "from sklearn.linear_model import LinearRegression,Ridge,Lasso,BayesianRidge,ElasticNet,ARDRegression\n",
    "from sklearn.neighbors import KNeighborsRegressor\n",
    "from sklearn.kernel_ridge import KernelRidge\n",
    "import numpy as np\n",
    "import random,csv\n",
    "import warnings\n",
    "warnings.filterwarnings('ignore')"
   ]
  },
  {
   "cell_type": "code",
   "execution_count": 2,
   "metadata": {
    "collapsed": false
   },
   "outputs": [],
   "source": [
    "contents = sio.loadmat('training_data/training_1.mat')\n",
    "features_1 = contents['features']\n",
    "scores_1 = contents['score']\n",
    "contents = sio.loadmat('training_data/training_2.mat')\n",
    "features_2 = contents['features']\n",
    "scores_2 = contents['score']"
   ]
  },
  {
   "cell_type": "code",
   "execution_count": 3,
   "metadata": {
    "collapsed": false
   },
   "outputs": [],
   "source": [
    "contents = sio.loadmat('training_data/training_3.mat')\n",
    "features_3 = contents['features']\n",
    "# contents = sio.loadmat('test_data/test_4.mat')\n",
    "# features_4 = contents['features']\n",
    "# contents = sio.loadmat('test_data/test_5.mat')\n",
    "# features_5 = contents['features']"
   ]
  },
  {
   "cell_type": "code",
   "execution_count": 4,
   "metadata": {
    "collapsed": false
   },
   "outputs": [],
   "source": [
    "num_examples_1 = len(features_1)\n",
    "num_examples_2 = len(features_2)\n",
    "total_number_examples = num_examples_1 + num_examples_2\n",
    "train_features = np.zeros((total_number_examples,25))\n",
    "train_scores =  np.zeros(total_number_examples)\n",
    "\n",
    "for index in range(num_examples_1):\n",
    "    train_features[index] = features_1[index]\n",
    "for index in range(num_examples_1,total_number_examples):\n",
    "    train_features[index] = features_2[index-num_examples_1]\n",
    "\n",
    "for index in range(num_examples_1):\n",
    "    train_scores[index] = scores_1[index]\n",
    "for index in range(num_examples_1,total_number_examples):\n",
    "    train_scores[index] = scores_2[index-num_examples_1]"
   ]
  },
  {
   "cell_type": "code",
   "execution_count": 5,
   "metadata": {
    "collapsed": false
   },
   "outputs": [],
   "source": [
    "init_configurations = []\n",
    "data_file = file('init_data/init_data_3.csv','r')\n",
    "data = csv.reader(data_file, delimiter=',')\n",
    "for row in data:\n",
    "    init_configurations.append(row)"
   ]
  },
  {
   "cell_type": "code",
   "execution_count": 59,
   "metadata": {
    "collapsed": false
   },
   "outputs": [
    {
     "data": {
      "text/plain": [
       "KNeighborsRegressor(algorithm='auto', leaf_size=30, metric='minkowski',\n",
       "          metric_params=None, n_jobs=1, n_neighbors=10, p=2,\n",
       "          weights='uniform')"
      ]
     },
     "execution_count": 59,
     "metadata": {},
     "output_type": "execute_result"
    }
   ],
   "source": [
    "classifier = KNeighborsRegressor(n_neighbors=10)\n",
    "classifier.fit(train_features,train_scores)"
   ]
  },
  {
   "cell_type": "code",
   "execution_count": 65,
   "metadata": {
    "collapsed": false
   },
   "outputs": [
    {
     "data": {
      "text/plain": [
       "KNeighborsRegressor(algorithm='auto', leaf_size=30, metric='minkowski',\n",
       "          metric_params=None, n_jobs=1, n_neighbors=5, p=2,\n",
       "          weights='distance')"
      ]
     },
     "execution_count": 65,
     "metadata": {},
     "output_type": "execute_result"
    }
   ],
   "source": [
    "classifier_2 = KNeighborsRegressor(weights='distance')\n",
    "classifier_2.fit(train_features,train_scores)"
   ]
  },
  {
   "cell_type": "code",
   "execution_count": 66,
   "metadata": {
    "collapsed": false
   },
   "outputs": [],
   "source": [
    "obs_scores = classifier_2.predict(features_3)\n",
    "indices = np.argsort(obs_scores)[::-1][:10]"
   ]
  },
  {
   "cell_type": "code",
   "execution_count": 67,
   "metadata": {
    "collapsed": false,
    "scrolled": false
   },
   "outputs": [
    {
     "name": "stdout",
     "output_type": "stream",
     "text": [
      "-\n",
      "  relative_config:   [ 0.695404,0.354118,0.911286,0.807885,-0.421207,0.320485,0.417118 ]\n",
      "  grasp_mode:  2\n",
      "  release_mode:  3\n",
      "-\n",
      "  relative_config:   [ 0.695404,0.354118,0.911286,0.807885,-0.421207,0.320485,0.417118 ]\n",
      "  grasp_mode:  2\n",
      "  release_mode:  3\n",
      "-\n",
      "  relative_config:   [ 0.512244,0.221250,0.871791,0.623049,0.531808,0.282594,0.499130 ]\n",
      "  grasp_mode:  2\n",
      "  release_mode:  3\n",
      "-\n",
      "  relative_config:   [ 0.652652,0.361657,0.871791,0.828007,-0.309993,0.402265,0.470573 ]\n",
      "  grasp_mode:  2\n",
      "  release_mode:  3\n",
      "-\n",
      "  relative_config:   [ 0.652652,0.361657,0.871791,0.828007,-0.309993,0.402265,0.470573 ]\n",
      "  grasp_mode:  2\n",
      "  release_mode:  3\n",
      "-\n",
      "  relative_config:   [ 0.667499,0.320863,0.946983,0.795191,0.434816,-0.063708,0.417789 ]\n",
      "  grasp_mode:  2\n",
      "  release_mode:  3\n",
      "-\n",
      "  relative_config:   [ 0.615538,-0.062548,0.871791,0.819145,-0.003499,0.284664,-0.497952 ]\n",
      "  grasp_mode:  2\n",
      "  release_mode:  3\n",
      "-\n",
      "  relative_config:   [ 0.879706,0.017800,0.946983,-0.293717,0.857394,0.361912,-0.218234 ]\n",
      "  grasp_mode:  2\n",
      "  release_mode:  3\n",
      "-\n",
      "  relative_config:   [ 0.884006,0.320863,0.871791,0.353436,0.738981,-0.555458,-0.143024 ]\n",
      "  grasp_mode:  2\n",
      "  release_mode:  3\n",
      "-\n",
      "  relative_config:   [ 0.624747,-0.046599,0.911286,0.865921,-0.013465,0.243237,-0.436848 ]\n",
      "  grasp_mode:  2\n",
      "  release_mode:  3\n"
     ]
    }
   ],
   "source": [
    "for val in indices:\n",
    "    #print val,obs_scores[val],init_configurations[val]\n",
    "    print '-'\n",
    "    print '  relative_config:   [',\",\".join(map(str,init_configurations[val])),']'\n",
    "    print '  grasp_mode:  2'\n",
    "    print '  release_mode:  3'    "
   ]
  },
  {
   "cell_type": "code",
   "execution_count": 68,
   "metadata": {
    "collapsed": false
   },
   "outputs": [
    {
     "data": {
      "text/plain": [
       "SVR(C=1.0, cache_size=200, coef0=0.0, degree=3, epsilon=0.1, gamma='auto',\n",
       "  kernel='rbf', max_iter=-1, shrinking=True, tol=0.001, verbose=False)"
      ]
     },
     "execution_count": 68,
     "metadata": {},
     "output_type": "execute_result"
    }
   ],
   "source": [
    "classifier = SVR()\n",
    "classifier.fit(train_features,train_scores)"
   ]
  },
  {
   "cell_type": "code",
   "execution_count": 69,
   "metadata": {
    "collapsed": false
   },
   "outputs": [],
   "source": [
    "obs_scores = classifier.predict(features_3)\n",
    "indices = np.argsort(obs_scores)[::-1][:10]"
   ]
  },
  {
   "cell_type": "code",
   "execution_count": 70,
   "metadata": {
    "collapsed": false,
    "scrolled": true
   },
   "outputs": [
    {
     "name": "stdout",
     "output_type": "stream",
     "text": [
      "-\n",
      "  relative_config:   [ 0.921602,0.107646,0.946983,0.029995,0.905811,0.059572,-0.418399 ]\n",
      "  grasp_mode:  2\n",
      "  release_mode:  3\n",
      "-\n",
      "  relative_config:   [ 0.624747,0.328401,0.911286,0.836516,0.224144,0.129410,0.482963 ]\n",
      "  grasp_mode:  2\n",
      "  release_mode:  3\n",
      "-\n",
      "  relative_config:   [ 0.658950,0.344351,0.911286,1.011015,-0.263313,0.342496,0.496513 ]\n",
      "  grasp_mode:  2\n",
      "  release_mode:  3\n",
      "-\n",
      "  relative_config:   [ 0.658950,0.344351,0.911286,1.011015,-0.263313,0.342496,0.496513 ]\n",
      "  grasp_mode:  2\n",
      "  release_mode:  3\n",
      "-\n",
      "  relative_config:   [ 0.658950,0.344351,0.911286,0.990801,-0.258048,0.335648,0.486586 ]\n",
      "  grasp_mode:  2\n",
      "  release_mode:  3\n",
      "-\n",
      "  relative_config:   [ 0.658950,0.344351,0.911286,0.990801,-0.258048,0.335648,0.486586 ]\n",
      "  grasp_mode:  2\n",
      "  release_mode:  3\n",
      "-\n",
      "  relative_config:   [ 0.658950,0.344351,0.911286,0.930147,-0.242251,0.315101,0.456798 ]\n",
      "  grasp_mode:  2\n",
      "  release_mode:  3\n",
      "-\n",
      "  relative_config:   [ 0.658950,0.344351,0.911286,0.930147,-0.242251,0.315101,0.456798 ]\n",
      "  grasp_mode:  2\n",
      "  release_mode:  3\n",
      "-\n",
      "  relative_config:   [ 0.658950,0.344351,0.911286,0.861279,-0.090545,0.219197,0.449392 ]\n",
      "  grasp_mode:  2\n",
      "  release_mode:  3\n",
      "-\n",
      "  relative_config:   [ 0.658950,0.344351,0.911286,0.796026,-0.341090,0.342240,0.364516 ]\n",
      "  grasp_mode:  2\n",
      "  release_mode:  3\n"
     ]
    }
   ],
   "source": [
    "for val in indices:\n",
    "    print '-'\n",
    "    print '  relative_config:   [',\",\".join(map(str,init_configurations[val])),']'\n",
    "    print '  grasp_mode:  2'\n",
    "    print '  release_mode:  3'"
   ]
  },
  {
   "cell_type": "code",
   "execution_count": 71,
   "metadata": {
    "collapsed": false
   },
   "outputs": [
    {
     "data": {
      "text/plain": [
       "KNeighborsRegressor(algorithm='auto', leaf_size=30, metric='minkowski',\n",
       "          metric_params=None, n_jobs=1, n_neighbors=25, p=2,\n",
       "          weights='distance')"
      ]
     },
     "execution_count": 71,
     "metadata": {},
     "output_type": "execute_result"
    }
   ],
   "source": [
    "classifier = KNeighborsRegressor(n_neighbors=25,weights='distance')\n",
    "classifier.fit(train_features,train_scores)"
   ]
  },
  {
   "cell_type": "code",
   "execution_count": 72,
   "metadata": {
    "collapsed": false
   },
   "outputs": [],
   "source": [
    "obs_scores = classifier.predict(features_3)\n",
    "indices = np.argsort(obs_scores)[::-1][:10]"
   ]
  },
  {
   "cell_type": "code",
   "execution_count": 73,
   "metadata": {
    "collapsed": false,
    "scrolled": true
   },
   "outputs": [
    {
     "name": "stdout",
     "output_type": "stream",
     "text": [
      "-\n",
      "  relative_config:   [ 0.624747,0.328401,0.911286,0.948460,-0.090436,0.319015,0.448124 ]\n",
      "  grasp_mode:  2\n",
      "  release_mode:  3\n",
      "-\n",
      "  relative_config:   [ 0.624747,0.328401,0.911286,0.948460,-0.090436,0.319015,0.448124 ]\n",
      "  grasp_mode:  2\n",
      "  release_mode:  3\n",
      "-\n",
      "  relative_config:   [ 0.667499,0.085940,1.021210,0.024065,0.984514,0.114836,0.130255 ]\n",
      "  grasp_mode:  2\n",
      "  release_mode:  3\n",
      "-\n",
      "  relative_config:   [ 0.637244,-0.024952,0.946983,0.901815,0.090126,0.246658,-0.343171 ]\n",
      "  grasp_mode:  2\n",
      "  release_mode:  3\n",
      "-\n",
      "  relative_config:   [ 0.678038,0.075401,1.021210,0.006618,0.984786,0.133769,0.110722 ]\n",
      "  grasp_mode:  2\n",
      "  release_mode:  3\n",
      "-\n",
      "  relative_config:   [ 0.705095,0.299157,0.977798,-0.447829,1.144713,-0.438616,-0.088171 ]\n",
      "  grasp_mode:  2\n",
      "  release_mode:  3\n",
      "-\n",
      "  relative_config:   [ 0.705095,0.299157,0.977798,-0.447829,1.144713,-0.438616,-0.088171 ]\n",
      "  grasp_mode:  2\n",
      "  release_mode:  3\n",
      "-\n",
      "  relative_config:   [ 0.695404,0.354118,0.911286,0.807885,-0.421207,0.320485,0.417118 ]\n",
      "  grasp_mode:  2\n",
      "  release_mode:  3\n",
      "-\n",
      "  relative_config:   [ 0.695404,0.354118,0.911286,0.807885,-0.421207,0.320485,0.417118 ]\n",
      "  grasp_mode:  2\n",
      "  release_mode:  3\n",
      "-\n",
      "  relative_config:   [ 0.884006,0.320863,0.871791,-0.046611,0.819064,-0.418359,-0.393650 ]\n",
      "  grasp_mode:  2\n",
      "  release_mode:  3\n"
     ]
    }
   ],
   "source": [
    "for val in indices:\n",
    "    print '-'\n",
    "    print '  relative_config:   [',\",\".join(map(str,init_configurations[val])),']'\n",
    "    print '  grasp_mode:  2'\n",
    "    print '  release_mode:  3'"
   ]
  },
  {
   "cell_type": "code",
   "execution_count": null,
   "metadata": {
    "collapsed": false
   },
   "outputs": [],
   "source": [
    "classifier = SVR()\n",
    "classifier.fit(train_features,train_scores)"
   ]
  },
  {
   "cell_type": "code",
   "execution_count": 53,
   "metadata": {
    "collapsed": false
   },
   "outputs": [
    {
     "name": "stdout",
     "output_type": "stream",
     "text": [
      "[ 378  656  597  550  569  695  592  602  641  612  637  633  606  601  662\n",
      "  643  486  270  155    0    0    0    0 6566]\n"
     ]
    }
   ],
   "source": [
    "obs_scores = classifier.predict(features_3)\n",
    "indices = np.argsort(obs_scores)[::-1][:10]"
   ]
  },
  {
   "cell_type": "code",
   "execution_count": 54,
   "metadata": {
    "collapsed": false
   },
   "outputs": [
    {
     "name": "stdout",
     "output_type": "stream",
     "text": [
      "4135 7666.78145269 [11096]\n",
      "4831 5809.42808784 [12488]\n"
     ]
    }
   ],
   "source": [
    "for val in indices:\n",
    "    print '-'\n",
    "    print '  relative_config:   [',\",\".join(map(str,init_configurations[val])),']'\n",
    "    print '  grasp_mode:  2'\n",
    "    print '  release_mode:  3'"
   ]
  },
  {
   "cell_type": "code",
   "execution_count": 17,
   "metadata": {
    "collapsed": false
   },
   "outputs": [
    {
     "data": {
      "text/plain": [
       "NuSVR(C=1.0, cache_size=200, coef0=0.0, degree=3, gamma='auto', kernel='rbf',\n",
       "   max_iter=-1, nu=0.5, shrinking=True, tol=0.001, verbose=False)"
      ]
     },
     "execution_count": 17,
     "metadata": {},
     "output_type": "execute_result"
    }
   ],
   "source": [
    "classifier = NuSVR()\n",
    "classifier.fit(train_features,train_scores)"
   ]
  },
  {
   "cell_type": "code",
   "execution_count": 84,
   "metadata": {
    "collapsed": false
   },
   "outputs": [
    {
     "name": "stdout",
     "output_type": "stream",
     "text": [
      "[479 765 787 741 680 643 581 556 558 649 648 717 783 810 786 784 691 599\n",
      " 263   0   0   0   0  61]\n"
     ]
    }
   ],
   "source": [
    "obs_scores = classifier.predict(features_3)\n",
    "indices = np.argsort(obs_scores)[::-1][:10]"
   ]
  },
  {
   "cell_type": "code",
   "execution_count": 85,
   "metadata": {
    "collapsed": false
   },
   "outputs": [
    {
     "name": "stdout",
     "output_type": "stream",
     "text": [
      "4576 3068.54191289 [6775]\n",
      "4831 3066.54191289 [12488]\n"
     ]
    }
   ],
   "source": [
    "for val in indices:\n",
    "    print '-'\n",
    "    print '  relative_config:   [',\",\".join(map(str,init_configurations[val])),']'\n",
    "    print '  grasp_mode:  2'\n",
    "    print '  release_mode:  3'"
   ]
  },
  {
   "cell_type": "code",
   "execution_count": 8,
   "metadata": {
    "collapsed": false
   },
   "outputs": [
    {
     "data": {
      "text/plain": [
       "LinearSVR(C=1.0, dual=True, epsilon=0.0, fit_intercept=True,\n",
       "     intercept_scaling=1.0, loss='epsilon_insensitive', max_iter=1000,\n",
       "     random_state=None, tol=0.0001, verbose=0)"
      ]
     },
     "execution_count": 8,
     "metadata": {},
     "output_type": "execute_result"
    }
   ],
   "source": [
    "classifier = LinearSVR()\n",
    "classifier.fit(train_features,train_scores)"
   ]
  },
  {
   "cell_type": "code",
   "execution_count": 9,
   "metadata": {
    "collapsed": false
   },
   "outputs": [],
   "source": [
    "obs_scores = classifier.predict(features_3)\n",
    "indices = np.argsort(obs_scores)[::-1][:10]"
   ]
  },
  {
   "cell_type": "code",
   "execution_count": 10,
   "metadata": {
    "collapsed": false,
    "scrolled": true
   },
   "outputs": [
    {
     "name": "stdout",
     "output_type": "stream",
     "text": [
      "-\n",
      "  relative_config:   [ 0.733000,-0.094022,0.871791,0.163039,0.802763,0.562101,-0.114161 ]\n",
      "  grasp_mode:  2\n",
      "  release_mode:  3\n",
      "-\n",
      "  relative_config:   [ 0.773794,0.372255,0.871791,0.796896,0.189650,-0.227671,0.526456 ]\n",
      "  grasp_mode:  2\n",
      "  release_mode:  3\n",
      "-\n",
      "  relative_config:   [ 0.773794,0.372255,0.871791,0.816035,-0.071394,-0.049990,0.571394 ]\n",
      "  grasp_mode:  2\n",
      "  release_mode:  3\n",
      "-\n",
      "  relative_config:   [ 0.773794,0.372255,0.871791,0.071394,0.816035,-0.571394,-0.049990 ]\n",
      "  grasp_mode:  2\n",
      "  release_mode:  3\n",
      "-\n",
      "  relative_config:   [ 0.775753,0.383363,0.829698,0.763129,-0.066765,-0.056023,0.640342 ]\n",
      "  grasp_mode:  2\n",
      "  release_mode:  3\n",
      "-\n",
      "  relative_config:   [ 0.733000,-0.094022,0.871791,0.055618,0.817262,0.572253,-0.038944 ]\n",
      "  grasp_mode:  2\n",
      "  release_mode:  3\n",
      "-\n",
      "  relative_config:   [ 0.695404,0.354118,0.911286,0.512787,0.983537,-0.507809,0.390165 ]\n",
      "  grasp_mode:  2\n",
      "  release_mode:  3\n",
      "-\n",
      "  relative_config:   [ 0.695404,0.354118,0.911286,0.512787,0.983537,-0.507809,0.390165 ]\n",
      "  grasp_mode:  2\n",
      "  release_mode:  3\n",
      "-\n",
      "  relative_config:   [ 0.733000,-0.075605,0.911286,-0.055156,0.864267,0.498985,0.031844 ]\n",
      "  grasp_mode:  2\n",
      "  release_mode:  3\n",
      "-\n",
      "  relative_config:   [ 0.695404,0.354118,0.911286,0.524101,1.005239,-0.519013,0.398774 ]\n",
      "  grasp_mode:  2\n",
      "  release_mode:  3\n"
     ]
    }
   ],
   "source": [
    "for val in indices:\n",
    "    print '-'\n",
    "    print '  relative_config:   [',\",\".join(map(str,init_configurations[val])),']'\n",
    "    print '  grasp_mode:  2'\n",
    "    print '  release_mode:  3'"
   ]
  },
  {
   "cell_type": "code",
   "execution_count": 11,
   "metadata": {
    "collapsed": false
   },
   "outputs": [
    {
     "data": {
      "text/plain": [
       "NuSVR(C=1.0, cache_size=200, coef0=0.0, degree=3, gamma='auto', kernel='rbf',\n",
       "   max_iter=-1, nu=0.5, shrinking=True, tol=0.001, verbose=False)"
      ]
     },
     "execution_count": 11,
     "metadata": {},
     "output_type": "execute_result"
    }
   ],
   "source": [
    "classifier = NuSVR()\n",
    "classifier.fit(train_features,train_scores)"
   ]
  },
  {
   "cell_type": "code",
   "execution_count": 12,
   "metadata": {
    "collapsed": false
   },
   "outputs": [],
   "source": [
    "obs_scores = classifier.predict(features_3)\n",
    "indices = np.argsort(obs_scores)[::-1][:10]"
   ]
  },
  {
   "cell_type": "code",
   "execution_count": 13,
   "metadata": {
    "collapsed": false,
    "scrolled": true
   },
   "outputs": [
    {
     "name": "stdout",
     "output_type": "stream",
     "text": [
      "-\n",
      "  relative_config:   [ 0.921602,0.107646,0.946983,0.029995,0.905811,0.059572,-0.418399 ]\n",
      "  grasp_mode:  2\n",
      "  release_mode:  3\n",
      "-\n",
      "  relative_config:   [ 0.624747,0.328401,0.911286,0.836516,0.224144,0.129410,0.482963 ]\n",
      "  grasp_mode:  2\n",
      "  release_mode:  3\n",
      "-\n",
      "  relative_config:   [ 0.658950,0.344351,0.911286,1.011015,-0.263313,0.342496,0.496513 ]\n",
      "  grasp_mode:  2\n",
      "  release_mode:  3\n",
      "-\n",
      "  relative_config:   [ 0.658950,0.344351,0.911286,1.011015,-0.263313,0.342496,0.496513 ]\n",
      "  grasp_mode:  2\n",
      "  release_mode:  3\n",
      "-\n",
      "  relative_config:   [ 0.658950,0.344351,0.911286,0.990801,-0.258048,0.335648,0.486586 ]\n",
      "  grasp_mode:  2\n",
      "  release_mode:  3\n",
      "-\n",
      "  relative_config:   [ 0.658950,0.344351,0.911286,0.990801,-0.258048,0.335648,0.486586 ]\n",
      "  grasp_mode:  2\n",
      "  release_mode:  3\n",
      "-\n",
      "  relative_config:   [ 0.658950,0.344351,0.911286,0.930147,-0.242251,0.315101,0.456798 ]\n",
      "  grasp_mode:  2\n",
      "  release_mode:  3\n",
      "-\n",
      "  relative_config:   [ 0.658950,0.344351,0.911286,0.930147,-0.242251,0.315101,0.456798 ]\n",
      "  grasp_mode:  2\n",
      "  release_mode:  3\n",
      "-\n",
      "  relative_config:   [ 0.658950,0.344351,0.911286,0.861279,-0.090545,0.219197,0.449392 ]\n",
      "  grasp_mode:  2\n",
      "  release_mode:  3\n",
      "-\n",
      "  relative_config:   [ 0.658950,0.344351,0.911286,0.796026,-0.341090,0.342240,0.364516 ]\n",
      "  grasp_mode:  2\n",
      "  release_mode:  3\n"
     ]
    }
   ],
   "source": [
    "for val in indices:\n",
    "    print '-'\n",
    "    print '  relative_config:   [',\",\".join(map(str,init_configurations[val])),']'\n",
    "    print '  grasp_mode:  2'\n",
    "    print '  release_mode:  3'"
   ]
  },
  {
   "cell_type": "code",
   "execution_count": 14,
   "metadata": {
    "collapsed": false
   },
   "outputs": [
    {
     "data": {
      "text/plain": [
       "BayesianRidge(alpha_1=1e-06, alpha_2=1e-06, compute_score=False, copy_X=True,\n",
       "       fit_intercept=True, lambda_1=1e-06, lambda_2=1e-06, n_iter=300,\n",
       "       normalize=False, tol=0.001, verbose=False)"
      ]
     },
     "execution_count": 14,
     "metadata": {},
     "output_type": "execute_result"
    }
   ],
   "source": [
    "classifier = BayesianRidge()\n",
    "classifier.fit(train_features,train_scores)"
   ]
  },
  {
   "cell_type": "code",
   "execution_count": 15,
   "metadata": {
    "collapsed": true
   },
   "outputs": [],
   "source": [
    "obs_scores = classifier.predict(features_3)\n",
    "indices = np.argsort(obs_scores)[::-1][:10]"
   ]
  },
  {
   "cell_type": "code",
   "execution_count": 16,
   "metadata": {
    "collapsed": false,
    "scrolled": true
   },
   "outputs": [
    {
     "name": "stdout",
     "output_type": "stream",
     "text": [
      "-\n",
      "  relative_config:   [ 0.689588,-0.105301,0.786286,0.643811,0.292416,0.399770,-0.583253 ]\n",
      "  grasp_mode:  2\n",
      "  release_mode:  3\n",
      "-\n",
      "  relative_config:   [ 0.689588,-0.105301,0.786286,-0.454519,0.541675,0.454519,0.541675 ]\n",
      "  grasp_mode:  2\n",
      "  release_mode:  3\n",
      "-\n",
      "  relative_config:   [ 0.733000,-0.109099,0.786286,-0.500000,0.500000,0.500000,0.500000 ]\n",
      "  grasp_mode:  2\n",
      "  release_mode:  3\n",
      "-\n",
      "  relative_config:   [ 0.733000,-0.105301,0.829698,-0.381167,0.664481,0.557566,0.319837 ]\n",
      "  grasp_mode:  2\n",
      "  release_mode:  3\n",
      "-\n",
      "  relative_config:   [ 0.733000,0.390901,0.786286,0.500000,0.500000,-0.500000,0.500000 ]\n",
      "  grasp_mode:  2\n",
      "  release_mode:  3\n",
      "-\n",
      "  relative_config:   [ 0.776412,0.387103,0.786286,-0.541675,-0.454519,0.541675,-0.454519 ]\n",
      "  grasp_mode:  2\n",
      "  release_mode:  3\n",
      "-\n",
      "  relative_config:   [ 0.776412,0.387103,0.786286,-0.399770,-0.583253,0.643811,-0.292416 ]\n",
      "  grasp_mode:  2\n",
      "  release_mode:  3\n",
      "-\n",
      "  relative_config:   [ 0.733000,-0.109099,0.786286,-0.500000,-0.500000,-0.500000,0.500000 ]\n",
      "  grasp_mode:  2\n",
      "  release_mode:  3\n",
      "-\n",
      "  relative_config:   [ 0.690247,-0.101560,0.829698,0.672033,0.367689,0.401761,-0.501761 ]\n",
      "  grasp_mode:  2\n",
      "  release_mode:  3\n",
      "-\n",
      "  relative_config:   [ 0.733000,-0.109099,0.786286,-0.579228,-0.405580,-0.405580,0.579228 ]\n",
      "  grasp_mode:  2\n",
      "  release_mode:  3\n"
     ]
    }
   ],
   "source": [
    "for val in indices:\n",
    "    print '-'\n",
    "    print '  relative_config:   [',\",\".join(map(str,init_configurations[val])),']'\n",
    "    print '  grasp_mode:  2'\n",
    "    print '  release_mode:  3'"
   ]
  },
  {
   "cell_type": "code",
   "execution_count": 18,
   "metadata": {
    "collapsed": false
   },
   "outputs": [
    {
     "data": {
      "text/plain": [
       "Ridge(alpha=1.0, copy_X=True, fit_intercept=True, max_iter=None,\n",
       "   normalize=False, random_state=None, solver='auto', tol=0.001)"
      ]
     },
     "execution_count": 18,
     "metadata": {},
     "output_type": "execute_result"
    }
   ],
   "source": [
    "classifier = Ridge()\n",
    "classifier.fit(train_features,train_scores)"
   ]
  },
  {
   "cell_type": "code",
   "execution_count": 19,
   "metadata": {
    "collapsed": true
   },
   "outputs": [],
   "source": [
    "obs_scores = classifier.predict(features_3)\n",
    "indices = np.argsort(obs_scores)[::-1][:10]"
   ]
  },
  {
   "cell_type": "code",
   "execution_count": 20,
   "metadata": {
    "collapsed": false,
    "scrolled": true
   },
   "outputs": [
    {
     "name": "stdout",
     "output_type": "stream",
     "text": [
      "-\n",
      "  relative_config:   [ 0.689588,-0.105301,0.786286,-0.454519,0.541675,0.454519,0.541675 ]\n",
      "  grasp_mode:  2\n",
      "  release_mode:  3\n",
      "-\n",
      "  relative_config:   [ 0.689588,-0.105301,0.786286,0.643811,0.292416,0.399770,-0.583253 ]\n",
      "  grasp_mode:  2\n",
      "  release_mode:  3\n",
      "-\n",
      "  relative_config:   [ 0.733000,-0.109099,0.786286,-0.500000,0.500000,0.500000,0.500000 ]\n",
      "  grasp_mode:  2\n",
      "  release_mode:  3\n",
      "-\n",
      "  relative_config:   [ 0.733000,0.390901,0.786286,0.500000,0.500000,-0.500000,0.500000 ]\n",
      "  grasp_mode:  2\n",
      "  release_mode:  3\n",
      "-\n",
      "  relative_config:   [ 0.776412,0.387103,0.786286,-0.541675,-0.454519,0.541675,-0.454519 ]\n",
      "  grasp_mode:  2\n",
      "  release_mode:  3\n",
      "-\n",
      "  relative_config:   [ 0.733000,-0.105301,0.829698,-0.381167,0.664481,0.557566,0.319837 ]\n",
      "  grasp_mode:  2\n",
      "  release_mode:  3\n",
      "-\n",
      "  relative_config:   [ 0.776412,0.387103,0.786286,-0.399770,-0.583253,0.643811,-0.292416 ]\n",
      "  grasp_mode:  2\n",
      "  release_mode:  3\n",
      "-\n",
      "  relative_config:   [ 0.733000,-0.109099,0.786286,-0.500000,-0.500000,-0.500000,0.500000 ]\n",
      "  grasp_mode:  2\n",
      "  release_mode:  3\n",
      "-\n",
      "  relative_config:   [ 0.690247,-0.101560,0.829698,0.672033,0.367689,0.401761,-0.501761 ]\n",
      "  grasp_mode:  2\n",
      "  release_mode:  3\n",
      "-\n",
      "  relative_config:   [ 0.733000,-0.109099,0.786286,-0.579228,-0.405580,-0.405580,0.579228 ]\n",
      "  grasp_mode:  2\n",
      "  release_mode:  3\n"
     ]
    }
   ],
   "source": [
    "for val in indices:\n",
    "    print '-'\n",
    "    print '  relative_config:   [',\",\".join(map(str,init_configurations[val])),']'\n",
    "    print '  grasp_mode:  2'\n",
    "    print '  release_mode:  3'"
   ]
  },
  {
   "cell_type": "code",
   "execution_count": 21,
   "metadata": {
    "collapsed": false
   },
   "outputs": [
    {
     "data": {
      "text/plain": [
       "Lasso(alpha=1.0, copy_X=True, fit_intercept=True, max_iter=1000,\n",
       "   normalize=False, positive=False, precompute=False, random_state=None,\n",
       "   selection='cyclic', tol=0.0001, warm_start=False)"
      ]
     },
     "execution_count": 21,
     "metadata": {},
     "output_type": "execute_result"
    }
   ],
   "source": [
    "classifier = Lasso()\n",
    "classifier.fit(train_features,train_scores)"
   ]
  },
  {
   "cell_type": "code",
   "execution_count": 22,
   "metadata": {
    "collapsed": true
   },
   "outputs": [],
   "source": [
    "obs_scores = classifier.predict(features_3)\n",
    "indices = np.argsort(obs_scores)[::-1][:10]"
   ]
  },
  {
   "cell_type": "code",
   "execution_count": 23,
   "metadata": {
    "collapsed": false
   },
   "outputs": [
    {
     "name": "stdout",
     "output_type": "stream",
     "text": [
      "-\n",
      "  relative_config:   [ 0.689588,-0.105301,0.786286,-0.454519,0.541675,0.454519,0.541675 ]\n",
      "  grasp_mode:  2\n",
      "  release_mode:  3\n",
      "-\n",
      "  relative_config:   [ 0.689588,-0.105301,0.786286,0.643811,0.292416,0.399770,-0.583253 ]\n",
      "  grasp_mode:  2\n",
      "  release_mode:  3\n",
      "-\n",
      "  relative_config:   [ 0.733000,-0.109099,0.786286,-0.500000,0.500000,0.500000,0.500000 ]\n",
      "  grasp_mode:  2\n",
      "  release_mode:  3\n",
      "-\n",
      "  relative_config:   [ 0.733000,0.390901,0.786286,0.500000,0.500000,-0.500000,0.500000 ]\n",
      "  grasp_mode:  2\n",
      "  release_mode:  3\n",
      "-\n",
      "  relative_config:   [ 0.776412,0.387103,0.786286,-0.541675,-0.454519,0.541675,-0.454519 ]\n",
      "  grasp_mode:  2\n",
      "  release_mode:  3\n",
      "-\n",
      "  relative_config:   [ 0.733000,-0.105301,0.829698,-0.381167,0.664481,0.557566,0.319837 ]\n",
      "  grasp_mode:  2\n",
      "  release_mode:  3\n",
      "-\n",
      "  relative_config:   [ 0.776412,0.387103,0.786286,-0.399770,-0.583253,0.643811,-0.292416 ]\n",
      "  grasp_mode:  2\n",
      "  release_mode:  3\n",
      "-\n",
      "  relative_config:   [ 0.733000,-0.109099,0.786286,-0.500000,-0.500000,-0.500000,0.500000 ]\n",
      "  grasp_mode:  2\n",
      "  release_mode:  3\n",
      "-\n",
      "  relative_config:   [ 0.690247,-0.101560,0.829698,0.672033,0.367689,0.401761,-0.501761 ]\n",
      "  grasp_mode:  2\n",
      "  release_mode:  3\n",
      "-\n",
      "  relative_config:   [ 0.733000,-0.109099,0.786286,-0.579228,-0.405580,-0.405580,0.579228 ]\n",
      "  grasp_mode:  2\n",
      "  release_mode:  3\n"
     ]
    }
   ],
   "source": [
    "for val in indices:\n",
    "    print '-'\n",
    "    print '  relative_config:   [',\",\".join(map(str,init_configurations[val])),']'\n",
    "    print '  grasp_mode:  2'\n",
    "    print '  release_mode:  3'"
   ]
  },
  {
   "cell_type": "code",
   "execution_count": null,
   "metadata": {
    "collapsed": true
   },
   "outputs": [],
   "source": []
  }
 ],
 "metadata": {
  "kernelspec": {
   "display_name": "Python 2",
   "language": "python",
   "name": "python2"
  },
  "language_info": {
   "codemirror_mode": {
    "name": "ipython",
    "version": 2
   },
   "file_extension": ".py",
   "mimetype": "text/x-python",
   "name": "python",
   "nbconvert_exporter": "python",
   "pygments_lexer": "ipython2",
   "version": "2.7.11"
  }
 },
 "nbformat": 4,
 "nbformat_minor": 0
}
